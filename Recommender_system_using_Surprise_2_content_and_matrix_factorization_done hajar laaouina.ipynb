{
  "cells": [
    {
      "cell_type": "code",
      "execution_count": 3,
      "metadata": {
        "colab": {
          "base_uri": "https://localhost:8080/"
        },
        "id": "0YqAs_TpW9AT",
        "outputId": "2fa078cf-7f5d-45dd-b5ff-58aac008e035"
      },
      "outputs": [
        {
          "output_type": "stream",
          "name": "stdout",
          "text": [
            "Looking in indexes: https://pypi.org/simple, https://us-python.pkg.dev/colab-wheels/public/simple/\n",
            "Collecting surprise\n",
            "  Downloading surprise-0.1-py2.py3-none-any.whl (1.8 kB)\n",
            "Collecting scikit-surprise (from surprise)\n",
            "  Downloading scikit-surprise-1.1.3.tar.gz (771 kB)\n",
            "\u001b[2K     \u001b[90m━━━━━━━━━━━━━━━━━━━━━━━━━━━━━━━━━━━━━━\u001b[0m \u001b[32m772.0/772.0 kB\u001b[0m \u001b[31m12.0 MB/s\u001b[0m eta \u001b[36m0:00:00\u001b[0m\n",
            "\u001b[?25h  Preparing metadata (setup.py) ... \u001b[?25l\u001b[?25hdone\n",
            "Requirement already satisfied: joblib>=1.0.0 in /usr/local/lib/python3.10/dist-packages (from scikit-surprise->surprise) (1.2.0)\n",
            "Requirement already satisfied: numpy>=1.17.3 in /usr/local/lib/python3.10/dist-packages (from scikit-surprise->surprise) (1.22.4)\n",
            "Requirement already satisfied: scipy>=1.3.2 in /usr/local/lib/python3.10/dist-packages (from scikit-surprise->surprise) (1.10.1)\n",
            "Building wheels for collected packages: scikit-surprise\n",
            "  Building wheel for scikit-surprise (setup.py) ... \u001b[?25l\u001b[?25hdone\n",
            "  Created wheel for scikit-surprise: filename=scikit_surprise-1.1.3-cp310-cp310-linux_x86_64.whl size=3095482 sha256=2d1470e5200e094d1ca07d92d99532e92556f876ec837763b4223975c47247e6\n",
            "  Stored in directory: /root/.cache/pip/wheels/a5/ca/a8/4e28def53797fdc4363ca4af740db15a9c2f1595ebc51fb445\n",
            "Successfully built scikit-surprise\n",
            "Installing collected packages: scikit-surprise, surprise\n",
            "Successfully installed scikit-surprise-1.1.3 surprise-0.1\n"
          ]
        }
      ],
      "source": [
        "import pandas as pd\n",
        "import numpy as np\n",
        "import matplotlib.pyplot as plt\n",
        "import seaborn as sns\n",
        "!pip install surprise"
      ]
    },
    {
      "cell_type": "code",
      "execution_count": 4,
      "metadata": {
        "id": "pkG5pINTW9AX"
      },
      "outputs": [],
      "source": [
        "from surprise import SVD, KNNBasic\n",
        "from surprise import Dataset\n",
        "from surprise.model_selection import cross_validate\n",
        "from surprise.model_selection import GridSearchCV\n",
        "from surprise.reader import Reader"
      ]
    },
    {
      "cell_type": "code",
      "execution_count": 5,
      "metadata": {
        "colab": {
          "base_uri": "https://localhost:8080/"
        },
        "id": "QBYC5NICW9AY",
        "outputId": "f4b17e17-fe45-4e95-98e0-8943f6bfe920"
      },
      "outputs": [
        {
          "output_type": "stream",
          "name": "stdout",
          "text": [
            "Trying to download dataset from https://files.grouplens.org/datasets/movielens/ml-100k.zip...\n",
            "Done! Dataset ml-100k has been saved to /root/.surprise_data/ml-100k\n"
          ]
        }
      ],
      "source": [
        "data = Dataset.load_builtin('ml-100k', prompt = False)"
      ]
    },
    {
      "cell_type": "code",
      "source": [],
      "metadata": {
        "id": "1JhvF_oviUd_"
      },
      "execution_count": null,
      "outputs": []
    },
    {
      "cell_type": "code",
      "execution_count": 6,
      "metadata": {
        "colab": {
          "base_uri": "https://localhost:8080/"
        },
        "id": "xewm3tq2W9AZ",
        "outputId": "df09c568-0b32-42cd-c54c-8e81e7ef2fca"
      },
      "outputs": [
        {
          "output_type": "stream",
          "name": "stdout",
          "text": [
            "Estimating biases using sgd...\n",
            "Estimating biases using sgd...\n",
            "Estimating biases using sgd...\n"
          ]
        },
        {
          "output_type": "execute_result",
          "data": {
            "text/plain": [
              "{'test_rmse': array([0.96789226, 0.95569345, 0.95382813]),\n",
              " 'fit_time': (0.14097070693969727, 0.1727592945098877, 0.16654753684997559),\n",
              " 'test_time': (0.15948033332824707, 0.24696683883666992, 0.2661585807800293)}"
            ]
          },
          "metadata": {},
          "execution_count": 6
        }
      ],
      "source": [
        "from surprise import BaselineOnly\n",
        "bsl_options = {'method': 'sgd',\n",
        "               'n_epochs': 5,\n",
        "               'reg_u': 12,\n",
        "               'reg_i': 5\n",
        "               }\n",
        "algo = BaselineOnly(bsl_options=bsl_options)\n",
        "cross_validate(algo, data, measures=['RMSE'], cv=3, verbose=False)"
      ]
    },
    {
      "cell_type": "code",
      "source": [
        "from surprise import BaselineOnly\n",
        "bsl_options = {'method': 'als',\n",
        "               'n_epochs': 5,\n",
        "               'reg_u': 12,\n",
        "               'reg_i': 5\n",
        "               }\n",
        "algo = BaselineOnly(bsl_options=bsl_options)\n",
        "cross_validate(algo, data, measures=['RMSE'], cv=3, verbose=False)"
      ],
      "metadata": {
        "colab": {
          "base_uri": "https://localhost:8080/"
        },
        "id": "m0H4Qc2nHdaI",
        "outputId": "ecf48952-887d-4103-f0f8-de1bfc721011"
      },
      "execution_count": 7,
      "outputs": [
        {
          "output_type": "stream",
          "name": "stdout",
          "text": [
            "Estimating biases using als...\n",
            "Estimating biases using als...\n",
            "Estimating biases using als...\n"
          ]
        },
        {
          "output_type": "execute_result",
          "data": {
            "text/plain": [
              "{'test_rmse': array([0.94023711, 0.94595551, 0.94515082]),\n",
              " 'fit_time': (0.14774560928344727, 0.13065862655639648, 0.14004182815551758),\n",
              " 'test_time': (0.16546010971069336, 0.2602698802947998, 0.15496230125427246)}"
            ]
          },
          "metadata": {},
          "execution_count": 7
        }
      ]
    },
    {
      "cell_type": "markdown",
      "metadata": {
        "id": "zCggECaGW9Aa"
      },
      "source": [
        "> Question: Change the method parameter by replacing sgd by als. Is the rms improving?"
      ]
    },
    {
      "cell_type": "code",
      "execution_count": 8,
      "metadata": {
        "colab": {
          "base_uri": "https://localhost:8080/"
        },
        "id": "RuHYXeY3W9Ad",
        "outputId": "31c6b6a6-9700-4924-f61f-fc550fdbc7c6"
      },
      "outputs": [
        {
          "output_type": "stream",
          "name": "stdout",
          "text": [
            "Evaluating RMSE, MAE of algorithm SVD on 5 split(s).\n",
            "\n",
            "                  Fold 1  Fold 2  Fold 3  Fold 4  Fold 5  Mean    Std     \n",
            "RMSE (testset)    0.9411  0.9368  0.9392  0.9353  0.9277  0.9360  0.0046  \n",
            "MAE (testset)     0.7423  0.7364  0.7370  0.7404  0.7346  0.7381  0.0028  \n",
            "Fit time          1.23    1.24    1.80    1.30    1.25    1.36    0.22    \n",
            "Test time         0.25    0.21    0.44    0.17    0.15    0.24    0.10    \n"
          ]
        },
        {
          "output_type": "execute_result",
          "data": {
            "text/plain": [
              "{'test_rmse': array([0.94107237, 0.9367728 , 0.93915612, 0.93529271, 0.92767251]),\n",
              " 'test_mae': array([0.7423419 , 0.73636993, 0.73701111, 0.74036529, 0.73462329]),\n",
              " 'fit_time': (1.2253026962280273,\n",
              "  1.2363529205322266,\n",
              "  1.8038830757141113,\n",
              "  1.3031916618347168,\n",
              "  1.2527189254760742),\n",
              " 'test_time': (0.24763083457946777,\n",
              "  0.21243929862976074,\n",
              "  0.4396207332611084,\n",
              "  0.16553974151611328,\n",
              "  0.15039658546447754)}"
            ]
          },
          "metadata": {},
          "execution_count": 8
        }
      ],
      "source": [
        "\n",
        "# Let's use SVD seen in the course.\n",
        "algo = SVD()\n",
        "#  5-fold cross-validation showing results\n",
        "cross_validate(algo, data, measures=['RMSE', 'MAE'], cv=5, verbose=True)"
      ]
    },
    {
      "cell_type": "code",
      "source": [
        "algo="
      ],
      "metadata": {
        "id": "X0N7QSpMhKP9"
      },
      "execution_count": null,
      "outputs": []
    },
    {
      "cell_type": "markdown",
      "metadata": {
        "id": "nNoXKOC6W9Af"
      },
      "source": [
        "## this SVD  is said to be biased:\n",
        "https://surprise.readthedocs.io/en/stable/matrix_factorization.html#matrix-factorization-based-algorithms\n",
        "\n",
        "## we will specify the optimal number of factors using GreadSearchCV."
      ]
    },
    {
      "cell_type": "code",
      "execution_count": 9,
      "metadata": {
        "colab": {
          "base_uri": "https://localhost:8080/"
        },
        "id": "vcfrq3JgW9Af",
        "outputId": "4cad6e03-066d-4383-f1aa-cf514b3bd1c5"
      },
      "outputs": [
        {
          "output_type": "stream",
          "name": "stdout",
          "text": [
            "0.9350941567475101\n",
            "{'n_factors': 29}\n"
          ]
        }
      ],
      "source": [
        "param_grid = {'n_factors': [4,6,9,11,14,18,29]}\n",
        "gs = GridSearchCV(SVD, param_grid, measures=['rmse'], cv=5)\n",
        "gs.fit(data)\n",
        "\n",
        "\n",
        "# the best RMSE\n",
        "print(gs.best_score['rmse'])\n",
        "\n",
        "# parameters behind this performance\n",
        "print(gs.best_params['rmse'])"
      ]
    },
    {
      "cell_type": "markdown",
      "metadata": {
        "id": "6uEkDZXUW9Ag"
      },
      "source": [
        "## To get this number of factors in a more concise way, we will use cross-validation by proving it graphically"
      ]
    },
    {
      "cell_type": "code",
      "execution_count": 10,
      "metadata": {
        "id": "lbcmz-dMW9Ag"
      },
      "outputs": [],
      "source": [
        "def rmse_vs_factors(algorithm, data):\n",
        "\n",
        "\n",
        "\n",
        "    rmse_algorithm = []\n",
        "\n",
        "    for k in range(4,20,1):\n",
        "        algo = algorithm(n_factors = k)\n",
        "\n",
        "        #[\"test_rmse\"] is a numpy array with the min RMSE in each test set\n",
        "        loss_fce = cross_validate(algo, data, measures=['RMSE'], cv=5, verbose=False)[\"test_rmse\"].mean()\n",
        "        rmse_algorithm.append(loss_fce)\n",
        "\n",
        "    return rmse_algorithm"
      ]
    },
    {
      "cell_type": "code",
      "execution_count": 11,
      "metadata": {
        "id": "EVyl1zFSW9Ah"
      },
      "outputs": [],
      "source": [
        "rmse_svd = rmse_vs_factors(SVD,data)"
      ]
    },
    {
      "cell_type": "code",
      "execution_count": 12,
      "metadata": {
        "id": "TfZ9UHj-W9Ah"
      },
      "outputs": [],
      "source": [
        "def plot_rmse(rmse, algorithm):\n",
        "    plt.figure(num=None, figsize=(11, 5), dpi=80, facecolor='w', edgecolor='k')\n",
        "\n",
        "    plt.subplot(2,1,1)\n",
        "    plt.plot(rmse)\n",
        "    plt.xlim(0,20)\n",
        "    plt.title(\"{0} Performance: RMSE contre le nbre de Facteurs\".format(algorithm), size = 20 )\n",
        "    plt.ylabel(\"Mean RMSE (cv=5)\")\n",
        "\n",
        "    plt.subplot(2,1,2)\n",
        "    plt.plot(rmse)\n",
        "    plt.xlim(0,20)\n",
        "    plt.xticks(np.arange(0, 20, step=2))\n",
        "\n",
        "    plt.xlabel(\"{0}(facteur = k)\".format(algorithm))\n",
        "    plt.ylabel(\"Mean RMSE (cv=5)\")\n",
        "    plt.axvline(np.argmin(rmse), color = \"r\")\n",
        "\n",
        ""
      ]
    },
    {
      "cell_type": "code",
      "execution_count": 13,
      "metadata": {
        "colab": {
          "base_uri": "https://localhost:8080/",
          "height": 395
        },
        "id": "5ZFfzJlkW9Ai",
        "outputId": "1953355d-6c35-4a3c-ca6a-173fb1c2ba38"
      },
      "outputs": [
        {
          "output_type": "display_data",
          "data": {
            "text/plain": [
              "<Figure size 880x400 with 2 Axes>"
            ],
            "image/png": "[encoded data removed]"
          },
          "metadata": {}
        }
      ],
      "source": [
        "plot_rmse(rmse_svd,\"SVD\")"
      ]
    },
    {
      "cell_type": "markdown",
      "metadata": {
        "id": "de4FyQ4UW9Ai"
      },
      "source": [
        "### Questions:\n",
        "\n",
        "the different parameters of the SVD: https://surprise.readthedocs.io/en/stable/matrix_factorization.html#matrix-factorization-based-algorithms\n",
        "also: https://surprise.readthedocs.io/en/stable/basic_algorithms.html#surprise.prediction_algorithms.baseline_only.BaselineOnly\n",
        "\n",
        "1. Using GridSearchCV show the best combination of parameters for the baselineonly version\n",
        "2. Using GridSearchCV, display the best combination of parameters for the biased version\n",
        "3. Same question for the unbiased version\n",
        "4. redo the same work (i.e., 1 and 2 and 3) using RandomizedSearchCV"
      ]
    },
    {
      "cell_type": "code",
      "source": [
        "from surprise import Dataset, Reader\n",
        "from surprise import BaselineOnly, SVD\n",
        "from surprise.model_selection import GridSearchCV, RandomizedSearchCV\n",
        "\n",
        "# Load the MovieLens 100K dataset\n",
        "data = Dataset.load_builtin('ml-100k', prompt=False)\n",
        "\n",
        "# GridSearchCV for BaselineOnly\n",
        "param_grid_baseline = {'bsl_options': {'method': ['als', 'sgd'],\n",
        "                                       'reg': [0.02, 0.05, 0.1],\n",
        "                                       'n_epochs': [10, 15, 20]}}\n",
        "\n",
        "grid_search_baseline = GridSearchCV(BaselineOnly, param_grid_baseline, measures=['rmse'], cv=3)\n",
        "grid_search_baseline.fit(data)\n",
        "\n",
        "# Get the best parameters for BaselineOnly\n",
        "print(grid_search_baseline.best_params)\n",
        "\n",
        "# GridSearchCV for Biased version\n",
        "param_grid_biased = {'n_factors': [50, 100, 150],\n",
        "                     'reg_all': [0.02, 0.05, 0.1]}\n",
        "\n",
        "grid_search_biased = GridSearchCV(SVD, param_grid_biased, measures=['rmse'], cv=3)\n",
        "grid_search_biased.fit(data)\n",
        "\n",
        "# Get the best parameters for the biased version\n",
        "print(grid_search_biased.best_params)\n",
        "\n",
        "# GridSearchCV for Unbiased version\n",
        "param_grid_unbiased = {'n_factors': [50, 100, 150],\n",
        "                       'reg_all': [0.02, 0.05, 0.1]}\n",
        "\n",
        "grid_search_unbiased = GridSearchCV(SVD, param_grid_unbiased, measures=['rmse'], cv=3)\n",
        "grid_search_unbiased.fit(data)\n",
        "\n",
        "# Get the best parameters for the unbiased version\n",
        "print(grid_search_unbiased.best_params)\n",
        "\n",
        "# RandomizedSearchCV for BaselineOnly\n",
        "param_distributions_baseline = {'bsl_options': {'method': ['als', 'sgd'],\n",
        "                                                'reg': [0.02, 0.05, 0.1],\n",
        "                                                'n_epochs': [10, 15, 20]}}\n",
        "\n",
        "randomized_search_baseline = RandomizedSearchCV(BaselineOnly, param_distributions_baseline, measures=['rmse'], cv=3)\n",
        "randomized_search_baseline.fit(data)\n",
        "\n",
        "# Get the best parameters for BaselineOnly using randomized search\n",
        "print(randomized_search_baseline.best_params)\n"
      ],
      "metadata": {
        "colab": {
          "base_uri": "https://localhost:8080/"
        },
        "id": "UoDLoaw6iWvr",
        "outputId": "af108d40-404a-4b07-a939-edf205ec6926"
      },
      "execution_count": 26,
      "outputs": [
        {
          "output_type": "stream",
          "name": "stdout",
          "text": [
            "Estimating biases using als...\n",
            "Estimating biases using als...\n",
            "Estimating biases using als...\n",
            "Estimating biases using als...\n",
            "Estimating biases using als...\n",
            "Estimating biases using als...\n",
            "Estimating biases using als...\n",
            "Estimating biases using als...\n",
            "Estimating biases using als...\n",
            "Estimating biases using als...\n",
            "Estimating biases using als...\n",
            "Estimating biases using als...\n",
            "Estimating biases using als...\n",
            "Estimating biases using als...\n",
            "Estimating biases using als...\n",
            "Estimating biases using als...\n",
            "Estimating biases using als...\n",
            "Estimating biases using als...\n",
            "Estimating biases using als...\n",
            "Estimating biases using als...\n",
            "Estimating biases using als...\n",
            "Estimating biases using als...\n",
            "Estimating biases using als...\n",
            "Estimating biases using als...\n",
            "Estimating biases using als...\n",
            "Estimating biases using als...\n",
            "Estimating biases using als...\n",
            "Estimating biases using sgd...\n",
            "Estimating biases using sgd...\n",
            "Estimating biases using sgd...\n",
            "Estimating biases using sgd...\n",
            "Estimating biases using sgd...\n",
            "Estimating biases using sgd...\n",
            "Estimating biases using sgd...\n",
            "Estimating biases using sgd...\n",
            "Estimating biases using sgd...\n",
            "Estimating biases using sgd...\n",
            "Estimating biases using sgd...\n",
            "Estimating biases using sgd...\n",
            "Estimating biases using sgd...\n",
            "Estimating biases using sgd...\n",
            "Estimating biases using sgd...\n",
            "Estimating biases using sgd...\n",
            "Estimating biases using sgd...\n",
            "Estimating biases using sgd...\n",
            "Estimating biases using sgd...\n",
            "Estimating biases using sgd...\n",
            "Estimating biases using sgd...\n",
            "Estimating biases using sgd...\n",
            "Estimating biases using sgd...\n",
            "Estimating biases using sgd...\n",
            "Estimating biases using sgd...\n",
            "Estimating biases using sgd...\n",
            "Estimating biases using sgd...\n",
            "{'rmse': {'bsl_options': {'method': 'sgd', 'reg': 0.02, 'n_epochs': 20}}}\n",
            "{'rmse': {'n_factors': 150, 'reg_all': 0.05}}\n",
            "{'rmse': {'n_factors': 100, 'reg_all': 0.05}}\n",
            "Estimating biases using als...\n",
            "Estimating biases using als...\n",
            "Estimating biases using als...\n",
            "Estimating biases using als...\n",
            "Estimating biases using als...\n",
            "Estimating biases using als...\n",
            "Estimating biases using als...\n",
            "Estimating biases using als...\n",
            "Estimating biases using als...\n",
            "Estimating biases using sgd...\n",
            "Estimating biases using sgd...\n",
            "Estimating biases using sgd...\n",
            "Estimating biases using als...\n",
            "Estimating biases using als...\n",
            "Estimating biases using als...\n",
            "Estimating biases using sgd...\n",
            "Estimating biases using sgd...\n",
            "Estimating biases using sgd...\n",
            "Estimating biases using sgd...\n",
            "Estimating biases using sgd...\n",
            "Estimating biases using sgd...\n",
            "Estimating biases using als...\n",
            "Estimating biases using als...\n",
            "Estimating biases using als...\n",
            "Estimating biases using sgd...\n",
            "Estimating biases using sgd...\n",
            "Estimating biases using sgd...\n",
            "Estimating biases using sgd...\n",
            "Estimating biases using sgd...\n",
            "Estimating biases using sgd...\n",
            "{'rmse': {'bsl_options': {'method': 'sgd', 'reg': 0.02, 'n_epochs': 20}}}\n"
          ]
        }
      ]
    },
    {
      "cell_type": "markdown",
      "source": [
        "For the BaselineOnly algorithm, the best parameter combination found using GridSearchCV is {'method': 'sgd', 'reg': 0.02, 'n_epochs': 20}. And using RandomizedSearchCV, the same combination is found as the best.\n",
        "\n",
        "For the biased version of the SVD algorithm, the best parameter combination found using GridSearchCV is {'n_factors': 150, 'reg_all': 0.05}.\n",
        "\n",
        "For the unbiased version of the SVD algorithm, the best parameter combination found using GridSearchCV is {'n_factors': 100, 'reg_all': 0.05}.\n"
      ],
      "metadata": {
        "id": "Wr__dbJLjqWf"
      }
    },
    {
      "cell_type": "code",
      "source": [],
      "metadata": {
        "id": "PvWFyiVDjtho"
      },
      "execution_count": null,
      "outputs": []
    }
  ],
  "metadata": {
    "kernelspec": {
      "display_name": "Python 3 (ipykernel)",
      "language": "python",
      "name": "python3"
    },
    "language_info": {
      "codemirror_mode": {
        "name": "ipython",
        "version": 3
      },
      "file_extension": ".py",
      "mimetype": "text/x-python",
      "name": "python",
      "nbconvert_exporter": "python",
      "pygments_lexer": "ipython3",
      "version": "3.7.13"
    },
    "colab": {
      "provenance": []
    }
  },
  "nbformat": 4,
  "nbformat_minor": 0
}